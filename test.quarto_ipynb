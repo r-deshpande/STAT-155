{
  "cells": [
    {
      "cell_type": "markdown",
      "metadata": {},
      "source": [
        "---\n",
        "title: \"Monte Carlo Simulation: Comparing Linear, Ridge, and Lasso Regression\"\n",
        "format: md\n",
        "jupyter: python3\n",
        "---\n",
        "\n",
        "\n",
        "## Objective\n",
        "\n",
        "This Monte Carlo simulation compares the performance of three regression models:\n",
        "- Linear Regression\n",
        "- Ridge Regression\n",
        "- Lasso Regression\n",
        "\n",
        "We will simulate 30 datasets in total:\n",
        "- 10 datasets with no correlation between predictors $x_1$ and $x_2$\n",
        "- 10 datasets with mild correlation\n",
        "- 10 datasets with high correlation\n",
        "\n",
        "The models will be evaluated on Mean Squared Error (MSE). The results will be summarized using the mean and standard deviation of the MSE for each combination of model and correlation structure.\n",
        "\n",
        "## Setup\n"
      ],
      "id": "8bfc70a1"
    },
    {
      "cell_type": "code",
      "metadata": {},
      "source": [
        "import numpy as np\n",
        "import pandas as pd\n",
        "from sklearn.linear_model import LinearRegression, Ridge, Lasso\n",
        "from sklearn.metrics import mean_squared_error\n",
        "from sklearn.model_selection import train_test_split\n",
        "import seaborn as sns\n",
        "import matplotlib.pyplot as plt\n",
        "\n",
        "np.random.seed(116)"
      ],
      "id": "66f154e9",
      "execution_count": null,
      "outputs": []
    },
    {
      "cell_type": "markdown",
      "metadata": {},
      "source": [
        "## Data Generation Function\n"
      ],
      "id": "698bdde9"
    },
    {
      "cell_type": "code",
      "metadata": {},
      "source": [
        "def generate_data(n=100, correlation=0.0):\n",
        "    mean = [0, 0]\n",
        "    cov = [[1, correlation], [correlation, 1]]\n",
        "    X = np.random.multivariate_normal(mean, cov, size=n)\n",
        "    x1, x2 = X[:, 0], X[:, 1]\n",
        "    noise = np.random.normal(0, 1, size=n)\n",
        "    y = 0 * x1 + 4 * x2 + noise\n",
        "    return pd.DataFrame({'x1': x1, 'x2': x2, 'y': y})"
      ],
      "id": "5b6f09cc",
      "execution_count": null,
      "outputs": []
    },
    {
      "cell_type": "markdown",
      "metadata": {},
      "source": [
        "## Simulation Loop\n"
      ],
      "id": "6f151bc2"
    },
    {
      "cell_type": "code",
      "metadata": {},
      "source": [
        "results = []\n",
        "correlations = [(\"No Corr\", 0.0), (\"Mild Corr\", 0.5), (\"High Corr\", 0.99)]\n",
        "models = {\n",
        "    \"Linear\": LinearRegression(),\n",
        "    \"Ridge\": Ridge(alpha=0.1),\n",
        "    \"Lasso\": Lasso(alpha=0.1)\n",
        "}\n",
        "\n",
        "for label, rho in correlations:\n",
        "    for i in range(10):\n",
        "        df = generate_data(correlation=rho)\n",
        "        X = df[['x1', 'x2']]\n",
        "        y = df['y']\n",
        "        X_train, X_test, y_train, y_test = train_test_split(X, y, test_size=0.3, random_state=i)\n",
        "\n",
        "        for model_name, model in models.items():\n",
        "            model.fit(X_train, y_train)\n",
        "            y_pred = model.predict(X_test)\n",
        "            mse = mean_squared_error(y_test, y_pred)\n",
        "            results.append({\n",
        "                'Model': model_name,\n",
        "                'Correlation': label,\n",
        "                'MSE': mse\n",
        "            })"
      ],
      "id": "28d5630b",
      "execution_count": null,
      "outputs": []
    },
    {
      "cell_type": "markdown",
      "metadata": {},
      "source": [
        "## Results Summary\n"
      ],
      "id": "664784f1"
    },
    {
      "cell_type": "code",
      "metadata": {},
      "source": [
        "results_df = pd.DataFrame(results)\n",
        "summary = results_df.groupby(['Model', 'Correlation']).agg(\n",
        "    Mean_MSE=('MSE', 'mean'),\n",
        "    SD_MSE=('MSE', 'std')\n",
        ").reset_index()\n",
        "\n",
        "summary"
      ],
      "id": "59070e49",
      "execution_count": null,
      "outputs": []
    },
    {
      "cell_type": "markdown",
      "metadata": {},
      "source": [
        "## Visualization (Optional)\n"
      ],
      "id": "ac36b268"
    },
    {
      "cell_type": "code",
      "metadata": {},
      "source": [
        "sns.boxplot(data=results_df, x='Correlation', y='MSE', hue='Model')\n",
        "plt.title(\"Model MSE by Predictor Correlation\")\n",
        "plt.show()"
      ],
      "id": "ec17a309",
      "execution_count": null,
      "outputs": []
    }
  ],
  "metadata": {
    "kernelspec": {
      "display_name": "Python 3",
      "language": "python",
      "name": "python3"
    }
  },
  "nbformat": 4,
  "nbformat_minor": 5
}